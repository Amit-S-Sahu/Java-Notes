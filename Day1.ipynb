{
 "cells": [
  {
   "cell_type": "markdown",
   "metadata": {},
   "source": [
    "## Java History"
   ]
  },
  {
   "cell_type": "markdown",
   "metadata": {},
   "source": [
    "#### Java Started as a Research Project in **1991** known as Green Project at Sun Microsystems."
   ]
  },
  {
   "cell_type": "markdown",
   "metadata": {},
   "source": [
    "#### First name of Java was **Oak** but it was already a registered trademark so it was renamed to **Java**."
   ]
  },
  {
   "cell_type": "markdown",
   "metadata": {},
   "source": [
    "#### Founder of Java is **James Gosling**.\n",
    "#### Oak was renamed to Java in **1994**.\n",
    "#### First version of Java was released in **1996**.\n",
    "#### Now Java is owned by **Oracle Corporation**.\n",
    "#### Right now Java version used in industry is **Java 17** due to LTS (long term support) version."
   ]
  },
  {
   "cell_type": "markdown",
   "metadata": {},
   "source": [
    "# Why use Java?\n",
    "#### 1) Java is a platform independent language.\n",
    "#### 2) Java is an Object Oriented Language.\n",
    "#### 3) Java is a robust language - means it is strong and reliable.\n",
    "#### 4) Java is a secure language.\n",
    "#### 5) Java is a multi-threaded language and dynamic language.\n",
    "#### 6) Java is automatic memory management language.\n",
    "#### 7) Java is a distributed language - means it can be used to create distributed applications.\n",
    "#### 8) Java is a high performance language.\n",
    "#### 9) Java is strongly typed language.\n"
   ]
  },
  {
   "cell_type": "markdown",
   "metadata": {},
   "source": [
    "# Personal Experience why I use java?\n",
    "#### 1) Java can be used for DSA (Data Structure and Algorithm) and Competitive Programming.\n",
    "#### 2) Java can be used for Web Development in backend.(Spring Boot)\n",
    "#### 3) Java can be used for Android Development.\n",
    "#### 4) I most Big Companies use Java for their backend services."
   ]
  },
  {
   "cell_type": "markdown",
   "metadata": {},
   "source": [
    "# Starting Now\n",
    "#### As C and C++ uses compiler to convert code to machine code\n",
    "#### Python uses interpreter to convert code to machine code\n",
    "### What you think Java uses?\n",
    "#### Java uses both Compiler and Interpreter."
   ]
  },
  {
   "cell_type": "markdown",
   "metadata": {},
   "source": [
    "# As we know Java is platform independent language\n",
    "#### We need to install JDK (Java Development Kit) to run Java code.\n",
    "#### JDK contains JRE (Java Runtime Environment) and JVM (Java Virtual Machine).\n",
    "## **JDK** it is need to develop Java applications. It consists of one or more JVM along with various development tools like Java compiler, Javadoc, Jar etc.\n",
    "## **JRE** it is the runtime environment in which java bytecode can be executed. It consists of JVM and set of class libraries and other facilities to run java applications. It is sub set of JDK.\n",
    "## **JVM** it is the heart of Java programming language. JVM is responsible for converting byte code into machine code. It is platform dependent and provides core java functions like memory management, garbage collection, security etc.\n",
    "\n"
   ]
  },
  {
   "cell_type": "markdown",
   "metadata": {},
   "source": [
    "### We write code It is converted to Byte code by Java Compiler and then Byte code is combined with different libraries and then it is interpreted by JVM to be converted to machine code."
   ]
  },
  {
   "cell_type": "markdown",
   "metadata": {},
   "source": [
    "## JDK = JRE + Development Tools\n",
    "## JRE = JVM + Java Packages Classes\n",
    "### Java code -> Java Compiler -> Byte code -> JVM -> Machine Code"
   ]
  },
  {
   "cell_type": "markdown",
   "metadata": {},
   "source": [
    "### Java is a case sensitive language.\n",
    "### Java is a strongly typed language."
   ]
  },
  {
   "cell_type": "markdown",
   "metadata": {},
   "source": [
    "## Now JDK installation\n",
    "#### 1) Go to Oracle website and download JDK. - https://www.oracle.com/in/java/technologies/downloads/(x64 Installer)\n",
    "#### 2) Install JDK.\n",
    "#### 3) Set Environment Variables. - C drive -> Program Files -> Java -> jdk -> bin -> copy path -> go to environment variables -> new -> paste path -> ok.\n",
    "#### 4) Check if Java is installed or not.\n"
   ]
  },
  {
   "cell_type": "markdown",
   "metadata": {},
   "source": [
    "### Now we will write our first Java code.\n",
    "#### 1) Open VS Code.\n",
    "#### 2) Create a new file.\n",
    "#### 3) Save the file with .java extension.\n",
    "#### 4) name the file as Hello.java\n"
   ]
  },
  {
   "cell_type": "markdown",
   "metadata": {},
   "source": [
    "## Now Moving  to Data Types in Java\n",
    "### 1) Primitive Data Types\n",
    "### 2) Non Primitive Data Types\n",
    "\n",
    "#### Primitive Data Types - Numeric Data Types and Non Numeric Data Types\n",
    "\n",
    "#### Numeric Data Types - Integer Data Types and Floating Point Data Types\n",
    "#### Integer Data Types - byte, short, int, long\n",
    "#### Floating Point Data Types - float, double\n",
    "#### Non Numeric Data Types - char, boolean\n",
    "\n",
    "####  Non Primitive Data Types - String, Array, Class, Interface\n",
    "\n",
    "### Difference between Primitive and Non Primitive Data Types\n",
    "#### Primitive Data Types are predefined by the language and named by a keyword.\n",
    "#### Non Primitive Data Types are created by the programmer and is not defined by the language."
   ]
  },
  {
   "cell_type": "markdown",
   "metadata": {},
   "source": [
    "### sizes of different data types\n",
    "#### byte - 1 byte\n",
    "#### short - 2 bytes\n",
    "#### int - 4 bytes\n",
    "#### long - 8 bytes\n",
    "#### float - 4 bytes\n",
    "#### double - 8 bytes\n",
    "#### char - 2 bytes\n",
    "#### boolean - 1 bit"
   ]
  },
  {
   "cell_type": "markdown",
   "metadata": {},
   "source": [
    "### Taking Input in Java\n",
    "#### We use Scanner class to take input in Java.\n",
    "## Type conversion(Implicit conversion ) , Type casting(Explicit conversion), Type promotion "
   ]
  },
  {
   "cell_type": "markdown",
   "metadata": {},
   "source": [
    "## Java Tokens\n",
    "#### 1) Keywords\n",
    "#### 2) Identifiers\n",
    "#### 3) Literals\n",
    "#### 4) Operators\n",
    "#### 5) Separators\n",
    "#### 6) Comments\n",
    "\n",
    "## In java there are 50 reserved keywords.\n",
    "### Keywords are the words whose meaning has already been explained to the compiler and they cannot be changed.\n",
    "### Keywords are case sensitive.\n",
    "\n",
    "## Identifiers\n",
    "### Identifiers are the name given to the class, variables, methods etc.\n",
    "### Identifiers must be unique.\n",
    "### Identifiers are case sensitive."
   ]
  },
  {
   "cell_type": "markdown",
   "metadata": {},
   "source": []
  }
 ],
 "metadata": {
  "kernelspec": {
   "display_name": "Python 3",
   "language": "python",
   "name": "python3"
  },
  "language_info": {
   "codemirror_mode": {
    "name": "ipython",
    "version": 3
   },
   "file_extension": ".py",
   "mimetype": "text/x-python",
   "name": "python",
   "nbconvert_exporter": "python",
   "pygments_lexer": "ipython3",
   "version": "3.11.4"
  }
 },
 "nbformat": 4,
 "nbformat_minor": 2
}
