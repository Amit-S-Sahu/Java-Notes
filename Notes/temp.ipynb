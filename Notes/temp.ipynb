{
 "cells": [
  {
   "cell_type": "markdown",
   "metadata": {},
   "source": [
    "## Control Flow Statements\n",
    "- Control flow statements are used to control the flow of execution in a program.\n",
    "\n",
    "- The following control flow statements are available in Java:\n",
    "  - Conditional statements: `if`, `else`, `switch`, `case`, `default`\n",
    "  - Looping statements: `while`, `do`, `for`, `break`, `continue`\n",
    "  - Branching statements: `return`\n",
    "  - The `if` statement is used to execute a block of code if a condition is true.\n",
    "  - The `else` statement is used to execute a block of code if the same condition is false.\n",
    "  - The `switch` statement is used to select one of many code blocks to be executed.\n",
    "  - The `while` statement is used to execute a block of code as long as a condition is true.\n",
    "  - The `do` statement is used to execute a block of code at least once, and then repeatedly execute the block as long as a condition is true.\n",
    "  - ternary operator \n",
    "\n",
    "Max of 2 and 3  then calculator , then oddeven then pass or fail \n",
    "ternary operator\n",
    "switch case  month name\n",
    "leap year\n",
    "\n",
    "\n",
    "  - The `for` statement is used to execute a block of code a specified number of times.\n",
    "  - The `break` statement is used to terminate the loop or switch statement.\n",
    "  - The `continue` statement is used to skip the current iteration of the loop and continue with the next iteration.\n",
    "  - The `return` statement is used to exit from a method, with or without a value.\n",
    "\n",
    "  break,continue,checkarmstrong,checkprime,checkvowel,dowhile,for,factorial,keepprintingtillmultipleof10,palindrome,palindrome upton,\n",
    "  print 1 to 10-while dowhile,for,print 1 to N-while dowhile,for, printnumbersexceptmultipleof10, range of armstrong, revere a number, \n",
    "  sum of digits, sum of n natural numbers, sum of n natural numbers using formula, square pattern while loop\n",
    "\n",
    "\n",
    "# Java Operator Precedence Table\n",
    "\n"
   ]
  },
  {
   "cell_type": "markdown",
   "metadata": {},
   "source": []
  }
 ],
 "metadata": {
  "language_info": {
   "name": "python"
  }
 },
 "nbformat": 4,
 "nbformat_minor": 2
}
