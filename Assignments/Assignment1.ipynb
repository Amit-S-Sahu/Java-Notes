{
 "cells": [
  {
   "cell_type": "markdown",
   "metadata": {},
   "source": [
    "<span style= \"font-size: 40px; color: #7cfa6e;text-decoration: underline;\">Assignment on Topics Covered on Day 1</span><br><span style=\"font-size: 30px; color: #ffe600; text-decoration: underline;\">(Data Types, Operators, and Input/Output, and Conditional Statements)</span>\n",
    "\n",
    "## <span style=\"color:#00ffe3; text-decoration: underline;\">**Easy Problems**</span>\n",
    "\n",
    "### Problem 1\n",
    "**<span style=\"color:#80bfff; text-decoration: underline;\">Positive/Negative Checker:</span>**\n",
    "\n",
    "Write a Java program that takes an integer as input from user as command Line argument and prints \"Positive\" if the number is greater than zero, \"Negative\" if it's less than zero, and \"Zero\" if it's equal to zero.\n",
    "\n",
    "### Problem 2\n",
    "**<span style=\"color:#80bfff; text-decoration: underline;\">Even/Odd Checker:</span>**\n",
    "\n",
    "Create a Java program that reads an integer from user as command Line argument and prints \"Even\" if the number is even and \"Odd\" if it's odd.\n",
    "\n",
    "## <span style=\"color:#ffaa00; text-decoration: underline;\">**Intermediate Problems**</span>\n",
    "\n",
    "**<span style=\"color:#f8a8ff; text-decoration: underline;\">Leap Year Checker:</span>**\n",
    "\n",
    "Write a Java program to check whether a given year is a leap year or not. (1900,1800,1700 is not a leap year, 2012 is a leap year, 2000 is a leap year, 2020 is a leap year)\n",
    "\n",
    "**<span style=\"color:#f8a8ff; text-decoration: underline;\">Grade Calculator:</span>**\n",
    "\n",
    "Develop a Java program that reads a student's score as an input (integer) and prints the corresponding letter grade. Use the standard grading scale: O (90-100), A+ (80-89), A (70-79), B+ (60-69), B (50-59), C (40-49), F (0-39).\n",
    "\n",
    "## <span style=\"color:#ff3333; text-decoration: underline;\">**Advanced Problems**</span>\n",
    "\n",
    "**<span style=\"color:#f8a8ff; text-decoration: underline;\">Triangle Type Checker:</span>**\n",
    "\n",
    "Create a Java program that takes three float values as input, representing the sides of a triangle. Determine and print whether the triangle is \"Equilateral\" (all sides are equal), \"Isosceles\" (two sides are equal), or \"Scalene\" (no sides are equal) and find the area of the triangle for each type.\n",
    "\n",
    "**<span style=\"color:#f8a8ff; text-decoration: underline;\">Tax Calculator:</span>**\n",
    "\n",
    "Develop a Java program that calculates the income tax for a person based on the income provided as input. Consider different tax brackets:\n",
    "\n",
    "- 0 - 50,000: 5% tax\n",
    "- 50,001 - 200,000: 10% tax\n",
    "- 200,001 - 500,000: 15% tax\n",
    "- Above 500,000: 20% tax\n",
    "\n",
    "After finding the income tax for the given income, if the person is a senior citizen (age >= 60), then provide a 5% discount on the tax amount. If the person is a super senior citizen (age >= 80), then provide a 10% discount on the tax amount.\n",
    "\n",
    "If the person is a business owner, then provide an additional 18% discount on the tax amount.\n",
    "\n",
    "#### **Example**: If a person's income is, for example, 800,000, calculate the tax as follows:\n",
    "\n",
    "- For the first 50,000, apply a 5% tax.\n",
    "- For the next 150,000 (50,001 - 200,000), apply a 10% tax.\n",
    "- For the next 300,000 (200,001 - 500,000), apply a 15% tax.\n",
    "- For the remaining 300,000 (above 500,000), apply a 20% tax."
   ]
  }
 ],
 "metadata": {
  "kernelspec": {
   "display_name": "Python 3 (ipykernel)",
   "language": "python",
   "name": "python3"
  },
  "language_info": {
   "codemirror_mode": {
    "name": "ipython",
    "version": 3
   },
   "file_extension": ".py",
   "mimetype": "text/x-python",
   "name": "python",
   "nbconvert_exporter": "python",
   "pygments_lexer": "ipython3",
   "version": "3.11.4"
  }
 },
 "nbformat": 4,
 "nbformat_minor": 4
}
